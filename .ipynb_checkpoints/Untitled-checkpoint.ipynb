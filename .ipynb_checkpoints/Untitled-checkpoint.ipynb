{
 "cells": [
  {
   "cell_type": "code",
   "execution_count": 16,
   "id": "d7567f7f",
   "metadata": {},
   "outputs": [],
   "source": [
    "import numpy as np \n",
    "import os\n",
    "import pandas as pd\n",
    "import time \n",
    "import itertools \n",
    "from multiprocessing import Pool"
   ]
  },
  {
   "cell_type": "code",
   "execution_count": 17,
   "id": "b4fb6156",
   "metadata": {},
   "outputs": [],
   "source": [
    "allowable_guesses_path = os.path.join('data', 'allowable_guesses.txt')\n",
    "allowable_guesses = list(pd.read_csv(allowable_guesses_path, header=None)[0])"
   ]
  },
  {
   "cell_type": "code",
   "execution_count": 18,
   "id": "1d0c3e17",
   "metadata": {},
   "outputs": [],
   "source": [
    "def split_word_list(the_list):\n",
    "    split_list = []\n",
    "    for i in range(len(the_list)):\n",
    "        split_list.append(list(the_list[i]))\n",
    "    return split_list"
   ]
  },
  {
   "cell_type": "code",
   "execution_count": 19,
   "id": "0f58d76e",
   "metadata": {},
   "outputs": [],
   "source": [
    "allowable_guesses_split = split_word_list(allowable_guesses)\n"
   ]
  },
  {
   "cell_type": "code",
   "execution_count": 27,
   "id": "8dcd67a6",
   "metadata": {
    "scrolled": true
   },
   "outputs": [],
   "source": [
    "df = pd.DataFrame(allowable_guesses_split)"
   ]
  },
  {
   "cell_type": "code",
   "execution_count": 9,
   "id": "4dfd662a",
   "metadata": {},
   "outputs": [
    {
     "data": {
      "text/html": [
       "<div>\n",
       "<style scoped>\n",
       "    .dataframe tbody tr th:only-of-type {\n",
       "        vertical-align: middle;\n",
       "    }\n",
       "\n",
       "    .dataframe tbody tr th {\n",
       "        vertical-align: top;\n",
       "    }\n",
       "\n",
       "    .dataframe thead th {\n",
       "        text-align: right;\n",
       "    }\n",
       "</style>\n",
       "<table border=\"1\" class=\"dataframe\">\n",
       "  <thead>\n",
       "    <tr style=\"text-align: right;\">\n",
       "      <th></th>\n",
       "      <th>0</th>\n",
       "      <th>1</th>\n",
       "      <th>2</th>\n",
       "      <th>3</th>\n",
       "      <th>4</th>\n",
       "    </tr>\n",
       "  </thead>\n",
       "  <tbody>\n",
       "    <tr>\n",
       "      <th>0</th>\n",
       "      <td>a</td>\n",
       "      <td>a</td>\n",
       "      <td>h</td>\n",
       "      <td>e</td>\n",
       "      <td>d</td>\n",
       "    </tr>\n",
       "    <tr>\n",
       "      <th>1</th>\n",
       "      <td>a</td>\n",
       "      <td>a</td>\n",
       "      <td>l</td>\n",
       "      <td>i</td>\n",
       "      <td>i</td>\n",
       "    </tr>\n",
       "    <tr>\n",
       "      <th>2</th>\n",
       "      <td>a</td>\n",
       "      <td>a</td>\n",
       "      <td>r</td>\n",
       "      <td>g</td>\n",
       "      <td>h</td>\n",
       "    </tr>\n",
       "    <tr>\n",
       "      <th>3</th>\n",
       "      <td>a</td>\n",
       "      <td>a</td>\n",
       "      <td>r</td>\n",
       "      <td>t</td>\n",
       "      <td>i</td>\n",
       "    </tr>\n",
       "    <tr>\n",
       "      <th>4</th>\n",
       "      <td>a</td>\n",
       "      <td>b</td>\n",
       "      <td>a</td>\n",
       "      <td>c</td>\n",
       "      <td>a</td>\n",
       "    </tr>\n",
       "    <tr>\n",
       "      <th>...</th>\n",
       "      <td>...</td>\n",
       "      <td>...</td>\n",
       "      <td>...</td>\n",
       "      <td>...</td>\n",
       "      <td>...</td>\n",
       "    </tr>\n",
       "    <tr>\n",
       "      <th>12967</th>\n",
       "      <td>z</td>\n",
       "      <td>u</td>\n",
       "      <td>z</td>\n",
       "      <td>i</td>\n",
       "      <td>m</td>\n",
       "    </tr>\n",
       "    <tr>\n",
       "      <th>12968</th>\n",
       "      <td>z</td>\n",
       "      <td>y</td>\n",
       "      <td>g</td>\n",
       "      <td>a</td>\n",
       "      <td>l</td>\n",
       "    </tr>\n",
       "    <tr>\n",
       "      <th>12969</th>\n",
       "      <td>z</td>\n",
       "      <td>y</td>\n",
       "      <td>g</td>\n",
       "      <td>o</td>\n",
       "      <td>n</td>\n",
       "    </tr>\n",
       "    <tr>\n",
       "      <th>12970</th>\n",
       "      <td>z</td>\n",
       "      <td>y</td>\n",
       "      <td>m</td>\n",
       "      <td>e</td>\n",
       "      <td>s</td>\n",
       "    </tr>\n",
       "    <tr>\n",
       "      <th>12971</th>\n",
       "      <td>z</td>\n",
       "      <td>y</td>\n",
       "      <td>m</td>\n",
       "      <td>i</td>\n",
       "      <td>c</td>\n",
       "    </tr>\n",
       "  </tbody>\n",
       "</table>\n",
       "<p>12972 rows × 5 columns</p>\n",
       "</div>"
      ],
      "text/plain": [
       "       0  1  2  3  4\n",
       "0      a  a  h  e  d\n",
       "1      a  a  l  i  i\n",
       "2      a  a  r  g  h\n",
       "3      a  a  r  t  i\n",
       "4      a  b  a  c  a\n",
       "...   .. .. .. .. ..\n",
       "12967  z  u  z  i  m\n",
       "12968  z  y  g  a  l\n",
       "12969  z  y  g  o  n\n",
       "12970  z  y  m  e  s\n",
       "12971  z  y  m  i  c\n",
       "\n",
       "[12972 rows x 5 columns]"
      ]
     },
     "execution_count": 9,
     "metadata": {},
     "output_type": "execute_result"
    }
   ],
   "source": [
    "df"
   ]
  },
  {
   "cell_type": "code",
   "execution_count": 11,
   "id": "54784cfa",
   "metadata": {},
   "outputs": [
    {
     "data": {
      "text/plain": [
       "'l'"
      ]
     },
     "execution_count": 11,
     "metadata": {},
     "output_type": "execute_result"
    }
   ],
   "source": [
    "df.iloc[1,2]"
   ]
  },
  {
   "cell_type": "code",
   "execution_count": 70,
   "id": "70835a97",
   "metadata": {},
   "outputs": [],
   "source": [
    "def possible_words(array,word,word_list_split):\n",
    "    df = pd.DataFrame(word_list_split)\n",
    "    word_len = len(word)\n",
    "    total_no = 0\n",
    "    for i, j in enumerate(array):\n",
    "        if j == 2:\n",
    "            df = df[df[i] == word[i]]\n",
    "        elif j == 0:\n",
    "            for k in range(word_len):\n",
    "                df = df[df[k] != word[i]]\n",
    "        else:\n",
    "            df = df[df[i] != word[i]]\n",
    "            df = df[(df == word[i]).T.sum() >= 1]\n",
    "    return df"
   ]
  },
  {
   "cell_type": "code",
   "execution_count": 65,
   "id": "3cbdb976",
   "metadata": {},
   "outputs": [],
   "source": [
    "def possible_words_2(array, word, word_list_split):\n",
    "    possible_word_list = []\n",
    "    word_split = list(word)\n",
    "    for choice in word_list_split:\n",
    "        for index, correct_letter in enumerate(array):\n",
    "            if correct_letter == 2:\n",
    "                if choice[index] == word_split[index]:\n",
    "                    pass\n",
    "                else:\n",
    "                    break\n",
    "            elif correct_letter ==1:\n",
    "                if choice[index] == word_split[index]:\n",
    "                    break \n",
    "                elif word_split[index] in choice:\n",
    "                    pass\n",
    "                else:\n",
    "                    break\n",
    "            else:\n",
    "                if word_split[index] not in choice:\n",
    "                    pass\n",
    "                else:\n",
    "                    break\n",
    "            if index == 4:\n",
    "                possible_word_list.append(''.join(choice))\n",
    "    return possible_word_list\n"
   ]
  },
  {
   "cell_type": "code",
   "execution_count": 74,
   "id": "ae561ced",
   "metadata": {},
   "outputs": [
    {
     "data": {
      "text/plain": [
       "0.39905834197998047"
      ]
     },
     "execution_count": 74,
     "metadata": {},
     "output_type": "execute_result"
    }
   ],
   "source": [
    "start = time.time()\n",
    "for i in range(100):\n",
    "    possible_words([2,1,0,0,0], allowable_guesses[i], allowable_guesses_split)\n",
    "end =time.time()\n",
    "end-start"
   ]
  },
  {
   "cell_type": "code",
   "execution_count": 73,
   "id": "1a876b5c",
   "metadata": {},
   "outputs": [
    {
     "data": {
      "text/plain": [
       "0.17746996879577637"
      ]
     },
     "execution_count": 73,
     "metadata": {},
     "output_type": "execute_result"
    }
   ],
   "source": [
    "start = time.time()\n",
    "for i in range(100):\n",
    "    possible_words_2([2,1,0,0,0], allowable_guesses[i], allowable_guesses_split)\n",
    "end =time.time()\n",
    "end-start"
   ]
  },
  {
   "cell_type": "code",
   "execution_count": 48,
   "id": "0772a9fd",
   "metadata": {},
   "outputs": [
    {
     "data": {
      "text/html": [
       "<div>\n",
       "<style scoped>\n",
       "    .dataframe tbody tr th:only-of-type {\n",
       "        vertical-align: middle;\n",
       "    }\n",
       "\n",
       "    .dataframe tbody tr th {\n",
       "        vertical-align: top;\n",
       "    }\n",
       "\n",
       "    .dataframe thead th {\n",
       "        text-align: right;\n",
       "    }\n",
       "</style>\n",
       "<table border=\"1\" class=\"dataframe\">\n",
       "  <thead>\n",
       "    <tr style=\"text-align: right;\">\n",
       "      <th></th>\n",
       "      <th>1</th>\n",
       "      <th>2</th>\n",
       "    </tr>\n",
       "  </thead>\n",
       "  <tbody>\n",
       "    <tr>\n",
       "      <th>0</th>\n",
       "      <td>True</td>\n",
       "      <td>True</td>\n",
       "    </tr>\n",
       "    <tr>\n",
       "      <th>1</th>\n",
       "      <td>True</td>\n",
       "      <td>False</td>\n",
       "    </tr>\n",
       "    <tr>\n",
       "      <th>2</th>\n",
       "      <td>True</td>\n",
       "      <td>False</td>\n",
       "    </tr>\n",
       "    <tr>\n",
       "      <th>3</th>\n",
       "      <td>True</td>\n",
       "      <td>False</td>\n",
       "    </tr>\n",
       "    <tr>\n",
       "      <th>4</th>\n",
       "      <td>False</td>\n",
       "      <td>False</td>\n",
       "    </tr>\n",
       "    <tr>\n",
       "      <th>...</th>\n",
       "      <td>...</td>\n",
       "      <td>...</td>\n",
       "    </tr>\n",
       "    <tr>\n",
       "      <th>12967</th>\n",
       "      <td>False</td>\n",
       "      <td>False</td>\n",
       "    </tr>\n",
       "    <tr>\n",
       "      <th>12968</th>\n",
       "      <td>False</td>\n",
       "      <td>False</td>\n",
       "    </tr>\n",
       "    <tr>\n",
       "      <th>12969</th>\n",
       "      <td>False</td>\n",
       "      <td>False</td>\n",
       "    </tr>\n",
       "    <tr>\n",
       "      <th>12970</th>\n",
       "      <td>False</td>\n",
       "      <td>False</td>\n",
       "    </tr>\n",
       "    <tr>\n",
       "      <th>12971</th>\n",
       "      <td>False</td>\n",
       "      <td>False</td>\n",
       "    </tr>\n",
       "  </tbody>\n",
       "</table>\n",
       "<p>12972 rows × 2 columns</p>\n",
       "</div>"
      ],
      "text/plain": [
       "           1      2\n",
       "0       True   True\n",
       "1       True  False\n",
       "2       True  False\n",
       "3       True  False\n",
       "4      False  False\n",
       "...      ...    ...\n",
       "12967  False  False\n",
       "12968  False  False\n",
       "12969  False  False\n",
       "12970  False  False\n",
       "12971  False  False\n",
       "\n",
       "[12972 rows x 2 columns]"
      ]
     },
     "execution_count": 48,
     "metadata": {},
     "output_type": "execute_result"
    }
   ],
   "source": [
    "df[[1,2]] == ['a','h']"
   ]
  },
  {
   "cell_type": "code",
   "execution_count": 140,
   "id": "f4fa1a86",
   "metadata": {},
   "outputs": [],
   "source": [
    "def generate_permutations(word): # for \n",
    "    final_permutations = []\n",
    "    permutations = []\n",
    "    word_split = list(word)\n",
    "    counter = -1\n",
    "    length = len(word_split)\n",
    "    word_indexing = []\n",
    "\n",
    "    for idx, letter in enumerate(word_split):\n",
    "        if letter not in word_split[:idx]:\n",
    "            counter +=1\n",
    "            word_indexing.append(counter)\n",
    "        else:\n",
    "            word_indexing.append(word_split.index(letter))\n",
    "    dupe_dict = {}\n",
    "    for i, j in enumerate(word_indexing):\n",
    "        dupe_dict[j] = dupe_dict.get(j,[] ) + [i]\n",
    "    dupe_dict_2 = {}\n",
    "    for key, value in dupe_dict.items():\n",
    "        if len(value) > 1:\n",
    "            dupe_dict_2[key] = value\n",
    "    dupe_1 = [0]\n",
    "    dupe_2 = [1,2]\n",
    "    no_dupe_0 = [0,1,2]\n",
    "    is_dupe = [1,2] # choice to use either dupe_1 or dupe_2\n",
    "    no_of_dupes = len(dupe_dict_2)\n",
    "    variations = []       \n",
    "    if no_of_dupes > 0:\n",
    "        dupe_permutations = itertools.product(is_dupe, repeat = no_of_dupes)\n",
    "        for permutation in dupe_permutations:\n",
    "            counter = 0\n",
    "            variation = [0]*len(word)\n",
    "            for key, values in dupe_dict_2.items():\n",
    "                for index in values:\n",
    "                    variation[index] = permutation[counter]\n",
    "                counter += 1        \n",
    "            variations.append(variation)\n",
    "    else:\n",
    "        variations.append([0]*len(word))\n",
    "    for variation in variations:\n",
    "        for index, choice in enumerate(variation):\n",
    "            if choice == 0:\n",
    "                variation[index] = no_dupe_0\n",
    "            elif choice == 1:\n",
    "                variation[index] = dupe_1\n",
    "            else:\n",
    "                variation[index] = dupe_2\n",
    "        permutations.append(variation)\n",
    "    for permutation in permutations:\n",
    "        final_permutations.extend(list(itertools.product(*permutation)))\n",
    "    return final_permutations\n"
   ]
  },
  {
   "cell_type": "code",
   "execution_count": 76,
   "id": "494ebed0",
   "metadata": {},
   "outputs": [
    {
     "data": {
      "text/plain": [
       "2.6987595558166504"
      ]
     },
     "execution_count": 76,
     "metadata": {},
     "output_type": "execute_result"
    }
   ],
   "source": [
    "start = time.time()\n",
    "for i in range(12972):\n",
    "    generate_permutations(allowable_guesses[i])\n",
    "\n",
    "end = time.time()\n",
    "end - start"
   ]
  },
  {
   "cell_type": "code",
   "execution_count": 82,
   "id": "a7a962bb",
   "metadata": {},
   "outputs": [
    {
     "data": {
      "text/plain": [
       "[(1, 2), (1, 3), (2, 2), (2, 3)]"
      ]
     },
     "execution_count": 82,
     "metadata": {},
     "output_type": "execute_result"
    }
   ],
   "source": [
    "list(itertools.product([1,2],[2,3]))"
   ]
  },
  {
   "cell_type": "code",
   "execution_count": 80,
   "id": "5c5b622b",
   "metadata": {},
   "outputs": [
    {
     "data": {
      "text/plain": [
       "[(1, 2), (1, 3), (2, 2), (2, 3)]"
      ]
     },
     "execution_count": 80,
     "metadata": {},
     "output_type": "execute_result"
    }
   ],
   "source": [
    "list(itertools.product([1,2],[2,3]))"
   ]
  },
  {
   "cell_type": "code",
   "execution_count": 86,
   "id": "6bfa97b7",
   "metadata": {},
   "outputs": [
    {
     "data": {
      "text/plain": [
       "[(1, 2), (1, 3), (2, 2), (2, 3)]"
      ]
     },
     "execution_count": 86,
     "metadata": {},
     "output_type": "execute_result"
    }
   ],
   "source": [
    "a = [1,2]\n",
    "b = [2,3]\n",
    "list(itertools.product(list(eval('a, b'))[0], list(eval('a, b'))[1]))"
   ]
  },
  {
   "cell_type": "code",
   "execution_count": 88,
   "id": "655f9c19",
   "metadata": {},
   "outputs": [
    {
     "data": {
      "text/plain": [
       "[(1, 1), (1, 2), (2, 1), (2, 2), ([1, 2], 1), ([1, 2], 2)]"
      ]
     },
     "execution_count": 88,
     "metadata": {},
     "output_type": "execute_result"
    }
   ],
   "source": [
    "list(itertools.product([1,2,[1,2]],[1,2]))"
   ]
  },
  {
   "cell_type": "code",
   "execution_count": 89,
   "id": "072c81d2",
   "metadata": {},
   "outputs": [
    {
     "data": {
      "text/plain": [
       "[(1, 1, 1),\n",
       " (1, 1, 2),\n",
       " (1, 2, 1),\n",
       " (1, 2, 2),\n",
       " (2, 1, 1),\n",
       " (2, 1, 2),\n",
       " (2, 2, 1),\n",
       " (2, 2, 2)]"
      ]
     },
     "execution_count": 89,
     "metadata": {},
     "output_type": "execute_result"
    }
   ],
   "source": [
    "list(itertools.product([1,2], repeat = 3))"
   ]
  },
  {
   "cell_type": "code",
   "execution_count": 143,
   "id": "6f32cd9f",
   "metadata": {},
   "outputs": [
    {
     "data": {
      "text/plain": [
       "[(0, 0, 0, 0),\n",
       " (1, 1, 1, 1),\n",
       " (1, 1, 1, 2),\n",
       " (1, 1, 2, 1),\n",
       " (1, 1, 2, 2),\n",
       " (1, 2, 1, 1),\n",
       " (1, 2, 1, 2),\n",
       " (1, 2, 2, 1),\n",
       " (1, 2, 2, 2),\n",
       " (2, 1, 1, 1),\n",
       " (2, 1, 1, 2),\n",
       " (2, 1, 2, 1),\n",
       " (2, 1, 2, 2),\n",
       " (2, 2, 1, 1),\n",
       " (2, 2, 1, 2),\n",
       " (2, 2, 2, 1),\n",
       " (2, 2, 2, 2)]"
      ]
     },
     "execution_count": 143,
     "metadata": {},
     "output_type": "execute_result"
    }
   ],
   "source": [
    "generate_permutations('oooo')"
   ]
  },
  {
   "cell_type": "code",
   "execution_count": 127,
   "id": "c1481975",
   "metadata": {},
   "outputs": [],
   "source": [
    "word = 'frogo'\n",
    "final_permutations\n",
    "permutations = []\n",
    "word_split = list(word)\n",
    "counter = -1\n",
    "length = len(word_split)\n",
    "word_indexing = []\n",
    "\n",
    "for idx, letter in enumerate(word_split):\n",
    "    if letter not in word_split[:idx]:\n",
    "        counter +=1\n",
    "        word_indexing.append(counter)\n",
    "    else:\n",
    "        word_indexing.append(word_split.index(letter))\n",
    "dupe_dict = {}\n",
    "for i, j in enumerate(word_indexing):\n",
    "    dupe_dict[j] = dupe_dict.get(j,[] ) + [i]\n",
    "dupe_dict_2 = {}\n",
    "for key, value in dupe_dict.items():\n",
    "    if len(value) > 1:\n",
    "        dupe_dict_2[key] = value\n",
    "dupe_1 = [0]\n",
    "dupe_2 = [1,2]\n",
    "no_dupe_0 = [0,1,2]\n",
    "is_dupe = [1,2] # choice to use either dupe_1 or dupe_2\n",
    "no_of_dupes = len(dupe_dict_2)\n",
    "variations = []       \n",
    "if no_of_dupes > 0:\n",
    "    dupe_permutations = itertools.product(is_dupe, repeat = no_of_dupes)\n",
    "    for permutation in dupe_permutations:\n",
    "        counter = 0\n",
    "        variation = [0]*len(word)\n",
    "        for key, values in dupe_dict_2.items():\n",
    "            for index in values:\n",
    "                variation[index] = permutation[counter]\n",
    "            counter += 1        \n",
    "        variations.append(variation)\n",
    "else:\n",
    "    variations.append([0]*len(word))\n",
    "for variation in variations:\n",
    "    for index, choice in enumerate(variation):\n",
    "        if choice == 0:\n",
    "            variation[index] = no_dupe_0\n",
    "        elif choice == 1:\n",
    "            variation[index] = dupe_1\n",
    "        else:\n",
    "            variation[index] = dupe_2\n",
    "    permutations.append(variation)"
   ]
  },
  {
   "cell_type": "code",
   "execution_count": 132,
   "id": "5449c7b4",
   "metadata": {},
   "outputs": [
    {
     "data": {
      "text/plain": [
       "[(0, 0, 0, 0, 0),\n",
       " (0, 0, 0, 1, 0),\n",
       " (0, 0, 0, 2, 0),\n",
       " (0, 1, 0, 0, 0),\n",
       " (0, 1, 0, 1, 0),\n",
       " (0, 1, 0, 2, 0),\n",
       " (0, 2, 0, 0, 0),\n",
       " (0, 2, 0, 1, 0),\n",
       " (0, 2, 0, 2, 0),\n",
       " (1, 0, 0, 0, 0),\n",
       " (1, 0, 0, 1, 0),\n",
       " (1, 0, 0, 2, 0),\n",
       " (1, 1, 0, 0, 0),\n",
       " (1, 1, 0, 1, 0),\n",
       " (1, 1, 0, 2, 0),\n",
       " (1, 2, 0, 0, 0),\n",
       " (1, 2, 0, 1, 0),\n",
       " (1, 2, 0, 2, 0),\n",
       " (2, 0, 0, 0, 0),\n",
       " (2, 0, 0, 1, 0),\n",
       " (2, 0, 0, 2, 0),\n",
       " (2, 1, 0, 0, 0),\n",
       " (2, 1, 0, 1, 0),\n",
       " (2, 1, 0, 2, 0),\n",
       " (2, 2, 0, 0, 0),\n",
       " (2, 2, 0, 1, 0),\n",
       " (2, 2, 0, 2, 0)]"
      ]
     },
     "execution_count": 132,
     "metadata": {},
     "output_type": "execute_result"
    }
   ],
   "source": [
    "list(itertools.product(*permutations[0]))"
   ]
  },
  {
   "cell_type": "code",
   "execution_count": 138,
   "id": "6c561609",
   "metadata": {},
   "outputs": [],
   "source": [
    "x = ['a'].extend(['a'])"
   ]
  },
  {
   "cell_type": "code",
   "execution_count": 139,
   "id": "d4e56c9e",
   "metadata": {},
   "outputs": [],
   "source": [
    "x"
   ]
  },
  {
   "cell_type": "code",
   "execution_count": 1,
   "id": "a77e7c7b",
   "metadata": {},
   "outputs": [],
   "source": [
    "import pandas as pd"
   ]
  },
  {
   "cell_type": "code",
   "execution_count": 4,
   "id": "add37fe6",
   "metadata": {},
   "outputs": [
    {
     "data": {
      "text/html": [
       "<div>\n",
       "<style scoped>\n",
       "    .dataframe tbody tr th:only-of-type {\n",
       "        vertical-align: middle;\n",
       "    }\n",
       "\n",
       "    .dataframe tbody tr th {\n",
       "        vertical-align: top;\n",
       "    }\n",
       "\n",
       "    .dataframe thead th {\n",
       "        text-align: right;\n",
       "    }\n",
       "</style>\n",
       "<table border=\"1\" class=\"dataframe\">\n",
       "  <thead>\n",
       "    <tr style=\"text-align: right;\">\n",
       "      <th></th>\n",
       "      <th>0</th>\n",
       "      <th>1</th>\n",
       "    </tr>\n",
       "  </thead>\n",
       "  <tbody>\n",
       "    <tr>\n",
       "      <th>2157</th>\n",
       "      <td>cocco</td>\n",
       "      <td>0.502679</td>\n",
       "    </tr>\n",
       "    <tr>\n",
       "      <th>10903</th>\n",
       "      <td>susus</td>\n",
       "      <td>0.586256</td>\n",
       "    </tr>\n",
       "    <tr>\n",
       "      <th>6676</th>\n",
       "      <td>mamma</td>\n",
       "      <td>0.592128</td>\n",
       "    </tr>\n",
       "    <tr>\n",
       "      <th>713</th>\n",
       "      <td>ayaya</td>\n",
       "      <td>0.628600</td>\n",
       "    </tr>\n",
       "    <tr>\n",
       "      <th>11012</th>\n",
       "      <td>taata</td>\n",
       "      <td>0.634445</td>\n",
       "    </tr>\n",
       "    <tr>\n",
       "      <th>...</th>\n",
       "      <td>...</td>\n",
       "      <td>...</td>\n",
       "    </tr>\n",
       "    <tr>\n",
       "      <th>1758</th>\n",
       "      <td>cares</td>\n",
       "      <td>6.490276</td>\n",
       "    </tr>\n",
       "    <tr>\n",
       "      <th>7975</th>\n",
       "      <td>pares</td>\n",
       "      <td>6.494905</td>\n",
       "    </tr>\n",
       "    <tr>\n",
       "      <th>8872</th>\n",
       "      <td>rales</td>\n",
       "      <td>6.512838</td>\n",
       "    </tr>\n",
       "    <tr>\n",
       "      <th>6096</th>\n",
       "      <td>lares</td>\n",
       "      <td>6.555953</td>\n",
       "    </tr>\n",
       "    <tr>\n",
       "      <th>11115</th>\n",
       "      <td>tares</td>\n",
       "      <td>6.601031</td>\n",
       "    </tr>\n",
       "  </tbody>\n",
       "</table>\n",
       "<p>12972 rows × 2 columns</p>\n",
       "</div>"
      ],
      "text/plain": [
       "           0         1\n",
       "2157   cocco  0.502679\n",
       "10903  susus  0.586256\n",
       "6676   mamma  0.592128\n",
       "713    ayaya  0.628600\n",
       "11012  taata  0.634445\n",
       "...      ...       ...\n",
       "1758   cares  6.490276\n",
       "7975   pares  6.494905\n",
       "8872   rales  6.512838\n",
       "6096   lares  6.555953\n",
       "11115  tares  6.601031\n",
       "\n",
       "[12972 rows x 2 columns]"
      ]
     },
     "execution_count": 4,
     "metadata": {},
     "output_type": "execute_result"
    }
   ],
   "source": [
    "pd.read_csv(\"entropyrepeated.csv\", header=None).sort_values(1)"
   ]
  },
  {
   "cell_type": "code",
   "execution_count": 3,
   "id": "6032740b",
   "metadata": {},
   "outputs": [],
   "source": [
    "import numpy as np \n",
    "import os\n",
    "import pandas as pd\n",
    "import time \n",
    "import itertools \n",
    "from multiprocessing import Pool\n",
    "\n",
    "allowable_guesses_path = os.path.join('data', 'allowable_guesses.txt')\n",
    "allowable_guesses = list(pd.read_csv(allowable_guesses_path, header=None)[0])\n",
    "\n",
    "def split_word_list(the_list):\n",
    "    split_list = []\n",
    "    for i in range(len(the_list)):\n",
    "        split_list.append(list(the_list[i]))\n",
    "    return split_list\n",
    "\n",
    "allowable_guesses_split = split_word_list(allowable_guesses)\n",
    "'''\n",
    "def generate_permutations(word): # for \n",
    "    permutations = []\n",
    "    word_split = list(word)\n",
    "    index = -1\n",
    "    length = len(word_split)\n",
    "    word_indexing = []\n",
    "\n",
    "    for i in range(length):\n",
    "        curr_letter = word_split[i]\n",
    "        if curr_letter not in word_split[:i]:\n",
    "            index +=1\n",
    "            word_indexing.append(index)\n",
    "        else:\n",
    "            word_indexing.append(word_split.index(curr_letter))\n",
    "    indexed_permutations = list(itertools.product(range(3), repeat = index +1))\n",
    "    for permutation in indexed_permutations:\n",
    "        index_permutation = [None]*(len(word_split))\n",
    "        for a, b in enumerate(permutation):\n",
    "            for i, j in enumerate(word_indexing):\n",
    "                if a == j:\n",
    "                    index_permutation[i] = b\n",
    "        permutations.append(index_permutation)\n",
    "    return permutations\n",
    "'''\n",
    "def generate_permutations(word): \n",
    "    final_permutations = []\n",
    "    permutations = []\n",
    "    word_split = list(word)\n",
    "    counter = -1\n",
    "    length = len(word_split)\n",
    "    word_indexing = []\n",
    "\n",
    "    for idx, letter in enumerate(word_split):\n",
    "        if letter not in word_split[:idx]:\n",
    "            counter +=1\n",
    "            word_indexing.append(counter)\n",
    "        else:\n",
    "            word_indexing.append(word_split.index(letter))\n",
    "    dupe_dict = {}\n",
    "    for i, j in enumerate(word_indexing):\n",
    "        dupe_dict[j] = dupe_dict.get(j,[] ) + [i]\n",
    "    dupe_dict_2 = {}\n",
    "    for key, value in dupe_dict.items():\n",
    "        if len(value) > 1:\n",
    "            dupe_dict_2[key] = value\n",
    "    dupe_1 = [0]\n",
    "    dupe_2 = [1,2]\n",
    "    no_dupe_0 = [0,1,2]\n",
    "    is_dupe = [1,2] # choice to use either dupe_1 or dupe_2\n",
    "    no_of_dupes = len(dupe_dict_2)\n",
    "    variations = []       \n",
    "    if no_of_dupes > 0:\n",
    "        dupe_permutations = itertools.product(is_dupe, repeat = no_of_dupes)\n",
    "        for permutation in dupe_permutations:\n",
    "            counter = 0\n",
    "            variation = [0]*len(word)\n",
    "            for key, values in dupe_dict_2.items():\n",
    "                for index in values:\n",
    "                    variation[index] = permutation[counter]\n",
    "                counter += 1        \n",
    "            variations.append(variation)\n",
    "    else:\n",
    "        variations.append([0]*len(word))\n",
    "    for variation in variations:\n",
    "        for index, choice in enumerate(variation):\n",
    "            if choice == 0:\n",
    "                variation[index] = no_dupe_0\n",
    "            elif choice == 1:\n",
    "                variation[index] = dupe_1\n",
    "            else:\n",
    "                variation[index] = dupe_2\n",
    "        permutations.append(variation)\n",
    "    for permutation in permutations:\n",
    "        final_permutations.extend(list(itertools.product(*permutation)))\n",
    "    return final_permutations\n",
    "\n",
    "def possible_words_number_s(array, word,word_list_split):\n",
    "    total_no = 0\n",
    "    word_split = list(word)\n",
    "    for choice in word_list_split:\n",
    "        for index, correct_letter in enumerate(array):\n",
    "            if correct_letter == 2:\n",
    "                if choice[index] == word_split[index]:\n",
    "                    pass\n",
    "                else:\n",
    "                    break\n",
    "            elif correct_letter ==1:\n",
    "                if choice[index] == word_split[index]:\n",
    "                    break \n",
    "                elif choice[index] in word_split:\n",
    "                    pass\n",
    "                else:\n",
    "                    break\n",
    "            else:\n",
    "                if choice[index] not in word_split:\n",
    "                    pass\n",
    "                else:\n",
    "                    break\n",
    "            if index == 4:\n",
    "                total_no += 1\n",
    "\n",
    "    return total_no\n",
    "\n",
    "def possible_words(array, word, word_list_split):\n",
    "    possible_word_list = []\n",
    "    word_split = list(word)\n",
    "    for choice in word_list_split:\n",
    "        for index, correct_letter in enumerate(array):\n",
    "            if correct_letter == 2:\n",
    "                if choice[index] == word_split[index]:\n",
    "                    pass\n",
    "                else:\n",
    "                    break\n",
    "            elif correct_letter ==1:\n",
    "                if choice[index] == word_split[index]:\n",
    "                    break \n",
    "                elif word_split[index] in choice:\n",
    "                    pass\n",
    "                else:\n",
    "                    break\n",
    "            else:\n",
    "                if word_split[index] not in choice:\n",
    "                    pass\n",
    "                else:\n",
    "                    break\n",
    "            if index == 4:\n",
    "                possible_word_list.append(''.join(choice))\n",
    "    return possible_word_list\n",
    "\n",
    "def entropy(word, word_list):\n",
    "    word_list_split = split_word_list(word_list)\n",
    "    total_number = len(allowable_guesses)\n",
    "    expected_value = 0\n",
    "    permutations = generate_permutations(word)\n",
    "    for permutation in permutations:\n",
    "        no_words = possible_words_number_s(permutation, word, word_list_split)\n",
    "        p = no_words/total_number\n",
    "        if p != 0:\n",
    "            expected_value += p*np.log2(1/p)\n",
    "    return [word,expected_value]\n",
    "\n",
    "def pick_word(word, word_list_split, correctness_array, fn):\n",
    "    word_list = possible_words(correctness_array, word, word_list_split)\n",
    "    word_list_split = split_word_list(word_list)\n",
    "    new_list = []\n",
    "    for wd in word_list:\n",
    "        new_list.append(fn(wd,word_list))\n",
    "    df = pd.DataFrame(new_list).sort_values(1, ascending = False)\n",
    "    best_word = df.iloc[0,0]\n",
    "    return (best_word, word_list_split)\n"
   ]
  },
  {
   "cell_type": "code",
   "execution_count": 16,
   "id": "1c28f6a9",
   "metadata": {},
   "outputs": [],
   "source": [
    "def determine_correctness_array(target_word,curr_word):\n",
    "    correctness_array = [None]*len(target_word)\n",
    "    for index_1, letter_1 in enumerate(curr_word):\n",
    "        if letter_1 not in target_word:\n",
    "            correctness_array[index_1] = 0\n",
    "        elif letter_1 in target_word and letter_1 == target_word[index_1]:\n",
    "            correctness_array[index_1] = 2\n",
    "        else:\n",
    "            correctness_array[index_1] = 1\n",
    "    return correctness_array"
   ]
  },
  {
   "cell_type": "code",
   "execution_count": 22,
   "id": "e4a59c60",
   "metadata": {},
   "outputs": [],
   "source": [
    "word_list_split = allowable_guesses_split"
   ]
  },
  {
   "cell_type": "code",
   "execution_count": 32,
   "id": "f1488826",
   "metadata": {},
   "outputs": [],
   "source": [
    "correctness_array = determine_correctness_array('frogs',best_word)\n",
    "best_word, word_list_split = pick_word(best_word, word_list_split, correctness_array, entropy)"
   ]
  },
  {
   "cell_type": "code",
   "execution_count": 33,
   "id": "2f728d04",
   "metadata": {},
   "outputs": [
    {
     "data": {
      "text/plain": [
       "'brogs'"
      ]
     },
     "execution_count": 33,
     "metadata": {},
     "output_type": "execute_result"
    }
   ],
   "source": [
    "best_word"
   ]
  },
  {
   "cell_type": "code",
   "execution_count": 34,
   "id": "d954f1ba",
   "metadata": {},
   "outputs": [
    {
     "data": {
      "text/plain": [
       "[['b', 'r', 'o', 'g', 's'],\n",
       " ['f', 'r', 'o', 'g', 's'],\n",
       " ['g', 'r', 'o', 'g', 's']]"
      ]
     },
     "execution_count": 34,
     "metadata": {},
     "output_type": "execute_result"
    }
   ],
   "source": [
    "word_list_split"
   ]
  },
  {
   "cell_type": "code",
   "execution_count": 14,
   "id": "12c8aef5",
   "metadata": {},
   "outputs": [],
   "source": [
    "correctness_array = determine_correctness_array('frogs','tares')"
   ]
  },
  {
   "cell_type": "code",
   "execution_count": 15,
   "id": "781649b3",
   "metadata": {},
   "outputs": [
    {
     "data": {
      "text/plain": [
       "'00102'"
      ]
     },
     "execution_count": 15,
     "metadata": {},
     "output_type": "execute_result"
    }
   ],
   "source": [
    "correctness_array"
   ]
  },
  {
   "cell_type": "code",
   "execution_count": 42,
   "id": "83ae5244",
   "metadata": {},
   "outputs": [],
   "source": [
    "import json\n",
    "def simulation(start_word, word_list, allowable_word_list, fn):\n",
    "    word_list_split =split_word_list(allowable_word_list)\n",
    "    word_no_tries = {}\n",
    "    total_counts = {}\n",
    "    for word in word_list:\n",
    "        no_tries, word = simulate(word, start_word, word_list_split, fn)\n",
    "        total_counts[no_tries] = total_counts.get(no_tries, 0) + 1\n",
    "        word_no_tries[no_tries] = word_no_tries.get(no_tries, []) + [word]\n",
    "    json.dump(total_counts, open('simulation_counts.json', 'w'))\n",
    "    json.dump(word_no_tries, open('simulation_word_counts.json','w'))\n",
    "    "
   ]
  },
  {
   "cell_type": "code",
   "execution_count": 43,
   "id": "5a035228",
   "metadata": {},
   "outputs": [],
   "source": [
    "possible_answers_path = os.path.join('data', 'possible_answers.txt')\n",
    "possible_answers = list(pd.read_csv(possible_answers_path, header=None)[0])"
   ]
  },
  {
   "cell_type": "code",
   "execution_count": 49,
   "id": "5c649e5e",
   "metadata": {},
   "outputs": [],
   "source": [
    "def simulate(target_word, best_word, word_list_split, fn):\n",
    "    no_tries = 1\n",
    "    while best_word != target_word:\n",
    "        correctness_array = determine_correctness_array(target_word, best_word)\n",
    "        best_word, word_list_split = pick_word(best_word, word_list_split, correctness_array, fn)\n",
    "        no_tries += 1\n",
    "    return (no_tries, best_word)"
   ]
  },
  {
   "cell_type": "code",
   "execution_count": 50,
   "id": "d6ecb976",
   "metadata": {},
   "outputs": [],
   "source": [
    "def split_word_list(the_list):\n",
    "    split_list = []\n",
    "    for i in range(len(the_list)):\n",
    "        split_list.append(list(the_list[i]))\n",
    "    return split_list"
   ]
  },
  {
   "cell_type": "code",
   "execution_count": 51,
   "id": "e784b89c",
   "metadata": {
    "scrolled": false
   },
   "outputs": [
    {
     "ename": "AttributeError",
     "evalue": "'str' object has no attribute 'write'",
     "output_type": "error",
     "traceback": [
      "\u001b[0;31m---------------------------------------------------------------------------\u001b[0m",
      "\u001b[0;31mAttributeError\u001b[0m                            Traceback (most recent call last)",
      "Input \u001b[0;32mIn [51]\u001b[0m, in \u001b[0;36m<module>\u001b[0;34m\u001b[0m\n\u001b[0;32m----> 1\u001b[0m \u001b[43msimulation\u001b[49m\u001b[43m(\u001b[49m\u001b[38;5;124;43m'\u001b[39;49m\u001b[38;5;124;43mtares\u001b[39;49m\u001b[38;5;124;43m'\u001b[39;49m\u001b[43m,\u001b[49m\u001b[43m \u001b[49m\u001b[43mpossible_answers\u001b[49m\u001b[43m[\u001b[49m\u001b[43m:\u001b[49m\u001b[38;5;241;43m5\u001b[39;49m\u001b[43m]\u001b[49m\u001b[43m,\u001b[49m\u001b[43mallowable_guesses\u001b[49m\u001b[43m,\u001b[49m\u001b[43m \u001b[49m\u001b[43mentropy\u001b[49m\u001b[43m)\u001b[49m\n",
      "Input \u001b[0;32mIn [42]\u001b[0m, in \u001b[0;36msimulation\u001b[0;34m(start_word, word_list, allowable_word_list, fn)\u001b[0m\n\u001b[1;32m      8\u001b[0m     total_counts[no_tries] \u001b[38;5;241m=\u001b[39m total_counts\u001b[38;5;241m.\u001b[39mget(no_tries, \u001b[38;5;241m0\u001b[39m) \u001b[38;5;241m+\u001b[39m \u001b[38;5;241m1\u001b[39m\n\u001b[1;32m      9\u001b[0m     word_no_tries[no_tries] \u001b[38;5;241m=\u001b[39m word_no_tries\u001b[38;5;241m.\u001b[39mget(no_tries, []) \u001b[38;5;241m+\u001b[39m [word]\n\u001b[0;32m---> 10\u001b[0m \u001b[43mjson\u001b[49m\u001b[38;5;241;43m.\u001b[39;49m\u001b[43mdump\u001b[49m\u001b[43m(\u001b[49m\u001b[43mtotal_counts\u001b[49m\u001b[43m,\u001b[49m\u001b[43m \u001b[49m\u001b[38;5;124;43m'\u001b[39;49m\u001b[38;5;124;43msimulation_counts.json\u001b[39;49m\u001b[38;5;124;43m'\u001b[39;49m\u001b[43m)\u001b[49m\n\u001b[1;32m     11\u001b[0m json\u001b[38;5;241m.\u001b[39mdump(word_no_tries, \u001b[38;5;124m'\u001b[39m\u001b[38;5;124msimulation_word_counts.json\u001b[39m\u001b[38;5;124m'\u001b[39m)\n",
      "File \u001b[0;32m/usr/lib/python3.10/json/__init__.py:180\u001b[0m, in \u001b[0;36mdump\u001b[0;34m(obj, fp, skipkeys, ensure_ascii, check_circular, allow_nan, cls, indent, separators, default, sort_keys, **kw)\u001b[0m\n\u001b[1;32m    177\u001b[0m \u001b[38;5;66;03m# could accelerate with writelines in some versions of Python, at\u001b[39;00m\n\u001b[1;32m    178\u001b[0m \u001b[38;5;66;03m# a debuggability cost\u001b[39;00m\n\u001b[1;32m    179\u001b[0m \u001b[38;5;28;01mfor\u001b[39;00m chunk \u001b[38;5;129;01min\u001b[39;00m iterable:\n\u001b[0;32m--> 180\u001b[0m     \u001b[43mfp\u001b[49m\u001b[38;5;241;43m.\u001b[39;49m\u001b[43mwrite\u001b[49m(chunk)\n",
      "\u001b[0;31mAttributeError\u001b[0m: 'str' object has no attribute 'write'"
     ]
    }
   ],
   "source": [
    "simulation('tares', possible_answers[:5],allowable_guesses, entropy)"
   ]
  },
  {
   "cell_type": "code",
   "execution_count": null,
   "id": "970511e2",
   "metadata": {},
   "outputs": [],
   "source": []
  }
 ],
 "metadata": {
  "kernelspec": {
   "display_name": "Python 3 (ipykernel)",
   "language": "python",
   "name": "python3"
  },
  "language_info": {
   "codemirror_mode": {
    "name": "ipython",
    "version": 3
   },
   "file_extension": ".py",
   "mimetype": "text/x-python",
   "name": "python",
   "nbconvert_exporter": "python",
   "pygments_lexer": "ipython3",
   "version": "3.10.2"
  }
 },
 "nbformat": 4,
 "nbformat_minor": 5
}
